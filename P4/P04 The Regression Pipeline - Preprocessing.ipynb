{
 "cells": [
  {
   "cell_type": "markdown",
   "metadata": {},
   "source": [
    "# P04: The Regression Pipeline: Preprocessing\n",
    "This practical is best done only after you have gone through *L03:The Regression Pipeline*.\n",
    "\n",
    "1. [Data Collection and Exploration](#1.0-Data-Collection-and-Exploration)\n",
    "   1. [Load the dataset](#1.1-Load-the-dataset)\n",
    "   2. [Explore the dataset](#1.2-Explore-the-dataset)\n",
    "2. [Data Preprocessing](#2.0-Data-Preprocessing)\n",
    "   1. [Split the dataset into training and testing set](#2.1-Split-the-dataset-into-training-and-testing-set)\n",
    "   2. [Handling missing values](#2.2-Handling-missing-values)\n",
    "   3. [Preprocessing numerical data: Standardization](#2.3-Preprocessing-numerical-data:-Standardization)\n",
    "   4. [Preprocessing categorical Data: One-hot encoding](#2.4-Preprocessing-categorical-Data:-One-hot-encoding)\n",
    "   5. [Finalizing the training set](#2.5-Finalizing-the-training-set)\n",
    "3. Select and Train a Model (P05)\n",
    "4. Evaluate system on unseen data (P05)\n"
   ]
  },
  {
   "cell_type": "code",
   "execution_count": 1,
   "metadata": {},
   "outputs": [],
   "source": [
    "# import python libraries\n",
    "import pandas as pd\n",
    "import numpy as np\n",
    "import matplotlib.pyplot as plt"
   ]
  },
  {
   "cell_type": "markdown",
   "metadata": {},
   "source": [
    "---\n",
    "## 1.0 Data Collection and Exploration\n",
    "\n",
    "### 1.1 Load the dataset\n",
    "\n",
    "First, we load the dataset. "
   ]
  },
  {
   "cell_type": "markdown",
   "metadata": {},
   "source": [
    "**Exercise 1.** Load the dataset into a variable called `housing` (Hint: use [pd.read_csv](https://pandas.pydata.org/pandas-docs/stable/generated/pandas.read_csv.html), click on the hyperlink to learn how to use). The dataset is the csv file `housing.csv` located at the same directory as the notebook file. "
   ]
  },
  {
   "cell_type": "code",
   "execution_count": 2,
   "metadata": {},
   "outputs": [],
   "source": [
    "# write code to load dataset into variable housing\n",
    "housing = pd.read_csv(\"housing.csv\")"
   ]
  },
  {
   "cell_type": "markdown",
   "metadata": {},
   "source": [
    "### 1.2 Explore the dataset"
   ]
  },
  {
   "cell_type": "markdown",
   "metadata": {},
   "source": [
    "#### General understanding of the dataset\n",
    "\n",
    "**Exercise 2.** Write the code to peek at the first five items of the DataFrame `housing` (Hint: use [*DataFrame*.head](https://pandas.pydata.org/pandas-docs/stable/generated/pandas.DataFrame.head.html), click on the hyperlink to learn how to use).  "
   ]
  },
  {
   "cell_type": "code",
   "execution_count": 3,
   "metadata": {},
   "outputs": [
    {
     "data": {
      "text/html": [
       "<div>\n",
       "<style scoped>\n",
       "    .dataframe tbody tr th:only-of-type {\n",
       "        vertical-align: middle;\n",
       "    }\n",
       "\n",
       "    .dataframe tbody tr th {\n",
       "        vertical-align: top;\n",
       "    }\n",
       "\n",
       "    .dataframe thead th {\n",
       "        text-align: right;\n",
       "    }\n",
       "</style>\n",
       "<table border=\"1\" class=\"dataframe\">\n",
       "  <thead>\n",
       "    <tr style=\"text-align: right;\">\n",
       "      <th></th>\n",
       "      <th>longitude</th>\n",
       "      <th>latitude</th>\n",
       "      <th>housing_median_age</th>\n",
       "      <th>total_rooms</th>\n",
       "      <th>total_bedrooms</th>\n",
       "      <th>population</th>\n",
       "      <th>households</th>\n",
       "      <th>median_income</th>\n",
       "      <th>median_house_value</th>\n",
       "      <th>ocean_proximity</th>\n",
       "    </tr>\n",
       "  </thead>\n",
       "  <tbody>\n",
       "    <tr>\n",
       "      <th>0</th>\n",
       "      <td>-122.23</td>\n",
       "      <td>37.88</td>\n",
       "      <td>41.0</td>\n",
       "      <td>880.0</td>\n",
       "      <td>129.0</td>\n",
       "      <td>322.0</td>\n",
       "      <td>126.0</td>\n",
       "      <td>8.3252</td>\n",
       "      <td>452600.0</td>\n",
       "      <td>NEAR BAY</td>\n",
       "    </tr>\n",
       "    <tr>\n",
       "      <th>1</th>\n",
       "      <td>-122.22</td>\n",
       "      <td>37.86</td>\n",
       "      <td>21.0</td>\n",
       "      <td>7099.0</td>\n",
       "      <td>1106.0</td>\n",
       "      <td>2401.0</td>\n",
       "      <td>1138.0</td>\n",
       "      <td>8.3014</td>\n",
       "      <td>358500.0</td>\n",
       "      <td>NEAR BAY</td>\n",
       "    </tr>\n",
       "    <tr>\n",
       "      <th>2</th>\n",
       "      <td>-122.24</td>\n",
       "      <td>37.85</td>\n",
       "      <td>52.0</td>\n",
       "      <td>1467.0</td>\n",
       "      <td>190.0</td>\n",
       "      <td>496.0</td>\n",
       "      <td>177.0</td>\n",
       "      <td>7.2574</td>\n",
       "      <td>352100.0</td>\n",
       "      <td>NEAR BAY</td>\n",
       "    </tr>\n",
       "    <tr>\n",
       "      <th>3</th>\n",
       "      <td>-122.25</td>\n",
       "      <td>37.85</td>\n",
       "      <td>52.0</td>\n",
       "      <td>1274.0</td>\n",
       "      <td>235.0</td>\n",
       "      <td>558.0</td>\n",
       "      <td>219.0</td>\n",
       "      <td>5.6431</td>\n",
       "      <td>341300.0</td>\n",
       "      <td>NEAR BAY</td>\n",
       "    </tr>\n",
       "    <tr>\n",
       "      <th>4</th>\n",
       "      <td>-122.25</td>\n",
       "      <td>37.85</td>\n",
       "      <td>52.0</td>\n",
       "      <td>1627.0</td>\n",
       "      <td>280.0</td>\n",
       "      <td>565.0</td>\n",
       "      <td>259.0</td>\n",
       "      <td>3.8462</td>\n",
       "      <td>342200.0</td>\n",
       "      <td>NEAR BAY</td>\n",
       "    </tr>\n",
       "  </tbody>\n",
       "</table>\n",
       "</div>"
      ],
      "text/plain": [
       "   longitude  latitude  housing_median_age  total_rooms  total_bedrooms  \\\n",
       "0    -122.23     37.88                41.0        880.0           129.0   \n",
       "1    -122.22     37.86                21.0       7099.0          1106.0   \n",
       "2    -122.24     37.85                52.0       1467.0           190.0   \n",
       "3    -122.25     37.85                52.0       1274.0           235.0   \n",
       "4    -122.25     37.85                52.0       1627.0           280.0   \n",
       "\n",
       "   population  households  median_income  median_house_value ocean_proximity  \n",
       "0       322.0       126.0         8.3252            452600.0        NEAR BAY  \n",
       "1      2401.0      1138.0         8.3014            358500.0        NEAR BAY  \n",
       "2       496.0       177.0         7.2574            352100.0        NEAR BAY  \n",
       "3       558.0       219.0         5.6431            341300.0        NEAR BAY  \n",
       "4       565.0       259.0         3.8462            342200.0        NEAR BAY  "
      ]
     },
     "execution_count": 3,
     "metadata": {},
     "output_type": "execute_result"
    }
   ],
   "source": [
    "# write code to show first 5 items of DataFrame housing\n",
    "housing.head()"
   ]
  },
  {
   "cell_type": "markdown",
   "metadata": {},
   "source": [
    "Then, go through the five items and identify the following items:\n",
    "\n",
    "1. How many numerical attributes and categorical attributes are there in the dataset? \n",
    "\n",
    "2. There are a total of 10 columns in the dataset where 9 columns are input features and 1 column is the targeted variable. \n",
    "   1. The targeted variable is the median house value. What is the name of the column representing the targeted variable? \n",
    "  \n",
    "   2. What are the two input features (columns) that tell us about the exact location of a district?\n",
    "\n",
    "   3. What is the input feature that allows us to know if a district is near to the sea?\n",
    "\n",
    "   4. What are the two input features that describe the number of rooms in a district? \n",
    "\n",
    "   5. What is the input feature concerning the wealth of the people living in a district?\n",
    " \n",
    "   6. What are the two input features that tell us how many people or families there are in a district?"
   ]
  },
  {
   "cell_type": "markdown",
   "metadata": {},
   "source": [
    "**Exercise 3.** Write the code to get a quick description all attributes in the DataFrame `housing` (Hint: use [*DataFrame*.info](https://pandas.pydata.org/pandas-docs/stable/generated/pandas.DataFrame.info.html), click on the hyperlink to learn how to use). "
   ]
  },
  {
   "cell_type": "code",
   "execution_count": 4,
   "metadata": {},
   "outputs": [
    {
     "name": "stdout",
     "output_type": "stream",
     "text": [
      "<class 'pandas.core.frame.DataFrame'>\n",
      "RangeIndex: 20640 entries, 0 to 20639\n",
      "Data columns (total 10 columns):\n",
      " #   Column              Non-Null Count  Dtype  \n",
      "---  ------              --------------  -----  \n",
      " 0   longitude           20640 non-null  float64\n",
      " 1   latitude            20640 non-null  float64\n",
      " 2   housing_median_age  20640 non-null  float64\n",
      " 3   total_rooms         20640 non-null  float64\n",
      " 4   total_bedrooms      20433 non-null  float64\n",
      " 5   population          20640 non-null  float64\n",
      " 6   households          20640 non-null  float64\n",
      " 7   median_income       20640 non-null  float64\n",
      " 8   median_house_value  20640 non-null  float64\n",
      " 9   ocean_proximity     20640 non-null  object \n",
      "dtypes: float64(9), object(1)\n",
      "memory usage: 1.6+ MB\n"
     ]
    }
   ],
   "source": [
    "housing.info()\n",
    "# write code to show a quick description all attributes in housing"
   ]
  },
  {
   "cell_type": "markdown",
   "metadata": {},
   "source": [
    "Go through the descriptions for all attributes and answer the following questions:\n",
    "\n",
    "1. How many samples are in the dataset?\n",
    "\n",
    "2. How much memory is required to load the dataset? \n",
    "\n",
    "3. Show that the attribute `total_bedrooms` has a total of 207 missing values.\n",
    "\n",
    "4. How many numerical and non-numerical attributes (columns) are there in the dataset? <br>Notes: A column is considered as numerical only if all values in the column are numerical values. All non-numerical columns are defined as type `object`, which encompasses all data types."
   ]
  },
  {
   "cell_type": "markdown",
   "metadata": {},
   "source": [
    "#### Analyze the numerical attributes\n",
    "\n",
    "**Exercise 4.** Write the code to show the statistics of all numerical attributes in the DataFrame `housing` (Hint: use [*DataFrame*.describe](https://pandas.pydata.org/pandas-docs/stable/generated/pandas.DataFrame.describe.html), click on the hyperlink to learn how to use). "
   ]
  },
  {
   "cell_type": "code",
   "execution_count": 5,
   "metadata": {},
   "outputs": [
    {
     "data": {
      "text/html": [
       "<div>\n",
       "<style scoped>\n",
       "    .dataframe tbody tr th:only-of-type {\n",
       "        vertical-align: middle;\n",
       "    }\n",
       "\n",
       "    .dataframe tbody tr th {\n",
       "        vertical-align: top;\n",
       "    }\n",
       "\n",
       "    .dataframe thead th {\n",
       "        text-align: right;\n",
       "    }\n",
       "</style>\n",
       "<table border=\"1\" class=\"dataframe\">\n",
       "  <thead>\n",
       "    <tr style=\"text-align: right;\">\n",
       "      <th></th>\n",
       "      <th>longitude</th>\n",
       "      <th>latitude</th>\n",
       "      <th>housing_median_age</th>\n",
       "      <th>total_rooms</th>\n",
       "      <th>total_bedrooms</th>\n",
       "      <th>population</th>\n",
       "      <th>households</th>\n",
       "      <th>median_income</th>\n",
       "      <th>median_house_value</th>\n",
       "    </tr>\n",
       "  </thead>\n",
       "  <tbody>\n",
       "    <tr>\n",
       "      <th>count</th>\n",
       "      <td>20640.000000</td>\n",
       "      <td>20640.000000</td>\n",
       "      <td>20640.000000</td>\n",
       "      <td>20640.000000</td>\n",
       "      <td>20433.000000</td>\n",
       "      <td>20640.000000</td>\n",
       "      <td>20640.000000</td>\n",
       "      <td>20640.000000</td>\n",
       "      <td>20640.000000</td>\n",
       "    </tr>\n",
       "    <tr>\n",
       "      <th>mean</th>\n",
       "      <td>-119.569704</td>\n",
       "      <td>35.631861</td>\n",
       "      <td>28.639486</td>\n",
       "      <td>2635.763081</td>\n",
       "      <td>537.870553</td>\n",
       "      <td>1425.476744</td>\n",
       "      <td>499.539680</td>\n",
       "      <td>3.870671</td>\n",
       "      <td>206855.816909</td>\n",
       "    </tr>\n",
       "    <tr>\n",
       "      <th>std</th>\n",
       "      <td>2.003532</td>\n",
       "      <td>2.135952</td>\n",
       "      <td>12.585558</td>\n",
       "      <td>2181.615252</td>\n",
       "      <td>421.385070</td>\n",
       "      <td>1132.462122</td>\n",
       "      <td>382.329753</td>\n",
       "      <td>1.899822</td>\n",
       "      <td>115395.615874</td>\n",
       "    </tr>\n",
       "    <tr>\n",
       "      <th>min</th>\n",
       "      <td>-124.350000</td>\n",
       "      <td>32.540000</td>\n",
       "      <td>1.000000</td>\n",
       "      <td>2.000000</td>\n",
       "      <td>1.000000</td>\n",
       "      <td>3.000000</td>\n",
       "      <td>1.000000</td>\n",
       "      <td>0.499900</td>\n",
       "      <td>14999.000000</td>\n",
       "    </tr>\n",
       "    <tr>\n",
       "      <th>25%</th>\n",
       "      <td>-121.800000</td>\n",
       "      <td>33.930000</td>\n",
       "      <td>18.000000</td>\n",
       "      <td>1447.750000</td>\n",
       "      <td>296.000000</td>\n",
       "      <td>787.000000</td>\n",
       "      <td>280.000000</td>\n",
       "      <td>2.563400</td>\n",
       "      <td>119600.000000</td>\n",
       "    </tr>\n",
       "    <tr>\n",
       "      <th>50%</th>\n",
       "      <td>-118.490000</td>\n",
       "      <td>34.260000</td>\n",
       "      <td>29.000000</td>\n",
       "      <td>2127.000000</td>\n",
       "      <td>435.000000</td>\n",
       "      <td>1166.000000</td>\n",
       "      <td>409.000000</td>\n",
       "      <td>3.534800</td>\n",
       "      <td>179700.000000</td>\n",
       "    </tr>\n",
       "    <tr>\n",
       "      <th>75%</th>\n",
       "      <td>-118.010000</td>\n",
       "      <td>37.710000</td>\n",
       "      <td>37.000000</td>\n",
       "      <td>3148.000000</td>\n",
       "      <td>647.000000</td>\n",
       "      <td>1725.000000</td>\n",
       "      <td>605.000000</td>\n",
       "      <td>4.743250</td>\n",
       "      <td>264725.000000</td>\n",
       "    </tr>\n",
       "    <tr>\n",
       "      <th>max</th>\n",
       "      <td>-114.310000</td>\n",
       "      <td>41.950000</td>\n",
       "      <td>52.000000</td>\n",
       "      <td>39320.000000</td>\n",
       "      <td>6445.000000</td>\n",
       "      <td>35682.000000</td>\n",
       "      <td>6082.000000</td>\n",
       "      <td>15.000100</td>\n",
       "      <td>500001.000000</td>\n",
       "    </tr>\n",
       "  </tbody>\n",
       "</table>\n",
       "</div>"
      ],
      "text/plain": [
       "          longitude      latitude  housing_median_age   total_rooms  \\\n",
       "count  20640.000000  20640.000000        20640.000000  20640.000000   \n",
       "mean    -119.569704     35.631861           28.639486   2635.763081   \n",
       "std        2.003532      2.135952           12.585558   2181.615252   \n",
       "min     -124.350000     32.540000            1.000000      2.000000   \n",
       "25%     -121.800000     33.930000           18.000000   1447.750000   \n",
       "50%     -118.490000     34.260000           29.000000   2127.000000   \n",
       "75%     -118.010000     37.710000           37.000000   3148.000000   \n",
       "max     -114.310000     41.950000           52.000000  39320.000000   \n",
       "\n",
       "       total_bedrooms    population    households  median_income  \\\n",
       "count    20433.000000  20640.000000  20640.000000   20640.000000   \n",
       "mean       537.870553   1425.476744    499.539680       3.870671   \n",
       "std        421.385070   1132.462122    382.329753       1.899822   \n",
       "min          1.000000      3.000000      1.000000       0.499900   \n",
       "25%        296.000000    787.000000    280.000000       2.563400   \n",
       "50%        435.000000   1166.000000    409.000000       3.534800   \n",
       "75%        647.000000   1725.000000    605.000000       4.743250   \n",
       "max       6445.000000  35682.000000   6082.000000      15.000100   \n",
       "\n",
       "       median_house_value  \n",
       "count        20640.000000  \n",
       "mean        206855.816909  \n",
       "std         115395.615874  \n",
       "min          14999.000000  \n",
       "25%         119600.000000  \n",
       "50%         179700.000000  \n",
       "75%         264725.000000  \n",
       "max         500001.000000  "
      ]
     },
     "execution_count": 5,
     "metadata": {},
     "output_type": "execute_result"
    }
   ],
   "source": [
    "# write code to show the statistics of all numerical attributes in housing\n",
    "housing.describe()"
   ]
  },
  {
   "cell_type": "markdown",
   "metadata": {},
   "source": [
    "Go through the statistical information of the attributes and answer the following questions: \n",
    "1. What is the *input feature* (excluding `median_house_value`) with the smallest magnitude of mean value? \n",
    "\n",
    "2. What is the *input feature* (excluding `median_house_value`) with the largest magnitude of mean value? \n",
    "\n",
    "3. What is the *input feature* (excluding `median_house_value`) with the smallest standard deviation?\n",
    "\n",
    "4. What is the *input feature* (excluding `median_house_value`) with the largest standard deviation?\n",
    "\n",
    "\n",
    "**Observations:**\n",
    "* The range of scales of the features are quite different. This highlights the need for *feature scaling* to be performed on the data set. "
   ]
  },
  {
   "cell_type": "markdown",
   "metadata": {},
   "source": [
    "**Exercise 5.** Write the code to plot the histogram of each numerical attribute (Hint: use [*DataFrame*.hist](http://pandas.pydata.org/pandas-docs/stable/generated/pandas.DataFrame.hist.html), click on the hyperlink to learn how to use). Set the number of bins to 50 and figure size to (20, 15).\n",
    "\n"
   ]
  },
  {
   "cell_type": "code",
   "execution_count": 10,
   "metadata": {
    "scrolled": true
   },
   "outputs": [
    {
     "data": {
      "text/plain": [
       "array([[<Axes: title={'center': 'longitude'}>,\n",
       "        <Axes: title={'center': 'latitude'}>,\n",
       "        <Axes: title={'center': 'housing_median_age'}>],\n",
       "       [<Axes: title={'center': 'total_rooms'}>,\n",
       "        <Axes: title={'center': 'total_bedrooms'}>,\n",
       "        <Axes: title={'center': 'population'}>],\n",
       "       [<Axes: title={'center': 'households'}>,\n",
       "        <Axes: title={'center': 'median_income'}>,\n",
       "        <Axes: title={'center': 'median_house_value'}>]], dtype=object)"
      ]
     },
     "execution_count": 10,
     "metadata": {},
     "output_type": "execute_result"
    },
    {
     "data": {
      "image/png": "[encoded data removed]",
      "text/plain": [
       "<Figure size 2000x1500 with 9 Axes>"
      ]
     },
     "metadata": {},
     "output_type": "display_data"
    }
   ],
   "source": [
    "# write code to plot the histogram of each numerical attribute\n",
    "housing.hist(bins=50, figsize=(20,15))"
   ]
  },
  {
   "cell_type": "markdown",
   "metadata": {},
   "source": [
    "Referring to the histograms generated, answer the following questions:\n",
    "\n",
    "1. Which 5 attributes have the heavy tail issue?\n",
    "\n",
    "2. Observe the two attributes *housing_median_age* and *median_house_value*. What is peculiar about these two histograms? What may be the cause?\n",
    "\n",
    "3. Identify two input features with very different scales.\n"
   ]
  },
  {
   "cell_type": "markdown",
   "metadata": {},
   "source": [
    "**Exercise 6.** From Exercise 5, we know that the last bin for *housing_median_age* and *median_house_value* are abnormally high because their values are capped at a maximum value. Find the values where both attributes are capped.\n",
    "\n",
    "Ans: \n",
    "```\n",
    "housing_median_age is capped at value 52.0\n",
    "median_house_value is capped at value 500001.0\n",
    "```"
   ]
  },
  {
   "cell_type": "code",
   "execution_count": 12,
   "metadata": {},
   "outputs": [
    {
     "name": "stdout",
     "output_type": "stream",
     "text": [
      "52.0\n",
      "500001.0\n"
     ]
    }
   ],
   "source": [
    "# Your code here (2 lines)\n",
    "print(housing.housing_median_age.max())\n",
    "print(housing.median_house_value.max())"
   ]
  },
  {
   "cell_type": "markdown",
   "metadata": {},
   "source": [
    "**Distribution is skewed, symmetric, and if there are any outliers**"
   ]
  },
  {
   "attachments": {
    "P04-P1.png": {
     "image/png": "[encoded data removed]"
    }
   },
   "cell_type": "markdown",
   "metadata": {},
   "source": [
    "If you want to plot the line within the histogram to see whether the data distribution is skewed, symmetric and if there are any outlier, you can use Seaborn library.\n",
    "\n",
    "Seaborn is a Python data visualization library based on matplotlib. It provides a high-level interface for drawing attractive and informative statistical graphics.\n",
    "\n",
    "For more information\n",
    "https://seaborn.pydata.org/\n",
    "\n",
    "![P04-P1.png](attachment:P04-P1.png)"
   ]
  },
  {
   "cell_type": "code",
   "execution_count": 13,
   "metadata": {},
   "outputs": [],
   "source": [
    "#Import Seaborn library\n",
    "import seaborn as sns "
   ]
  },
  {
   "cell_type": "code",
   "execution_count": 15,
   "metadata": {},
   "outputs": [
    {
     "data": {
      "image/png": "[encoded data removed]",
      "text/plain": [
       "<Figure size 500x500 with 1 Axes>"
      ]
     },
     "metadata": {},
     "output_type": "display_data"
    },
    {
     "data": {
      "image/png": "[encoded data removed]",
      "text/plain": [
       "<Figure size 500x500 with 1 Axes>"
      ]
     },
     "metadata": {},
     "output_type": "display_data"
    }
   ],
   "source": [
    "sns.set(rc={'figure.figsize':(5,5)})\n",
    "sns.histplot(housing['median_income'], bins=30, kde=True)\n",
    "plt.show()\n",
    "\n",
    "sns.histplot(housing['median_income'], bins=50, kde=True)\n",
    "plt.show()"
   ]
  },
  {
   "cell_type": "markdown",
   "metadata": {},
   "source": [
    "**Analyzing categorical data**\n",
    "\n",
    "**Exercise 7.** There is one categorical feature in our dataset. Identify the possible values (categories) for this feature (Hint: use [*Series*.value_counts](http://pandas.pydata.org/pandas-docs/version/0.22/generated/pandas.Series.value_counts.html), click on the hyperlink to learn how to use).\n"
   ]
  },
  {
   "cell_type": "code",
   "execution_count": 16,
   "metadata": {},
   "outputs": [
    {
     "data": {
      "text/plain": [
       "<1H OCEAN     9136\n",
       "INLAND        6551\n",
       "NEAR OCEAN    2658\n",
       "NEAR BAY      2290\n",
       "ISLAND           5\n",
       "Name: ocean_proximity, dtype: int64"
      ]
     },
     "execution_count": 16,
     "metadata": {},
     "output_type": "execute_result"
    }
   ],
   "source": [
    "# write code to identify the possible values (categories) for 'ocean_proximity'\n",
    "housing.ocean_proximity.value_counts()"
   ]
  },
  {
   "cell_type": "markdown",
   "metadata": {},
   "source": [
    "1. How many possible values are there for the categorical feature?\n",
    "2. What is the most frequent value? \n",
    "3. What is the least  frequent value? "
   ]
  },
  {
   "cell_type": "markdown",
   "metadata": {},
   "source": [
    "---\n",
    "## 2.0 Data Preprocessing"
   ]
  },
  {
   "cell_type": "markdown",
   "metadata": {},
   "source": [
    "### 2.1 Split the dataset into training and testing set"
   ]
  },
  {
   "cell_type": "markdown",
   "metadata": {},
   "source": [
    "#### Separate *output* vector from the *input* matrix\n",
    "\n",
    "Before we split the training and testing set, let's separate the *output* (y) from *input* (**X**). For this dataset, y is the `median_house_value` column.\n",
    "\n",
    "**Exercise 8.** Separate the *output* vector from the *input* matrix. \n",
    "1. To create the *input matrix* `X`, simply drop the `median_house_value` column from `housing`. \n",
    "2. The *output vector* `y` can be created by select the `median_house_value` column in `housing`. \n"
   ]
  },
  {
   "cell_type": "code",
   "execution_count": 17,
   "metadata": {},
   "outputs": [],
   "source": [
    "# write code to separate the output (y) from input (X)\n",
    "X = housing.drop('median_house_value', axis=1)\n",
    "y = housing.median_house_value"
   ]
  },
  {
   "cell_type": "markdown",
   "metadata": {},
   "source": [
    "**Exercise 9.** Show the shapes and types of `X` and `y`."
   ]
  },
  {
   "cell_type": "code",
   "execution_count": 19,
   "metadata": {},
   "outputs": [
    {
     "name": "stdout",
     "output_type": "stream",
     "text": [
      "(20640, 9)\n",
      "(20640,)\n"
     ]
    }
   ],
   "source": [
    "# Your code here\n",
    "print(X.shape)\n",
    "print(y.shape)"
   ]
  },
  {
   "cell_type": "markdown",
   "metadata": {},
   "source": [
    "#### Split the dataset into training and testing set\n",
    "Our next task is to use **Random Sampling** to split the dataset into training and testing set.\n",
    "<br><br>\n",
    "**Exercise 10.** Split the dataset into the training set `'train`' and testing set `'test`' using [train_test_split](https://scikit-learn.org/stable/modules/generated/sklearn.model_selection.train_test_split.html) (click hyperlink to learn how to use)\n",
    "\n",
    "* `X_train,X_test,y_train,y_test  = train_test_split(X, y, test_size=0.2, random_state=30)` \n",
    "  * `X_train`, `y_train` X and y of train set\n",
    "  * `X_test`, `y_test` X and y of test set \n",
    "  * `test_size`: The proportion of the dataset to include in the test split. When set to 0.2, this means 80% for training and 20% for testing. \n",
    "  * `random_state = 30`: Seeds the random generator so that we will get the same split each time we run the program."
   ]
  },
  {
   "cell_type": "code",
   "execution_count": 20,
   "metadata": {},
   "outputs": [],
   "source": [
    "# Your code here\n",
    "from sklearn.model_selection import train_test_split\n",
    "\n",
    "X_train,X_test,y_train,y_test  = train_test_split(X, y, test_size=0.2, random_state=30)"
   ]
  },
  {
   "cell_type": "code",
   "execution_count": 21,
   "metadata": {},
   "outputs": [
    {
     "name": "stdout",
     "output_type": "stream",
     "text": [
      "(20640, 9)\n",
      "(16512, 9)\n",
      "(4128, 9)\n",
      "(20640,)\n",
      "(16512,)\n",
      "(4128,)\n"
     ]
    }
   ],
   "source": [
    "print(X.shape)\n",
    "print(X_train.shape)\n",
    "print(X_test.shape)\n",
    "print(y.shape)\n",
    "print(y_train.shape)\n",
    "print(y_test.shape)"
   ]
  },
  {
   "cell_type": "markdown",
   "metadata": {},
   "source": [
    "#### Split the input matrix into numerical and categorical sets\n",
    "\n",
    "The required data preprocessing differs for numerical and categorical features. Therefore, we need to split the *input matrix* into two sets, one with numerical features only and the other with categorical features only.  \n",
    "\n",
    "**Exercise 11.** Further split the input matrix into two: \n",
    "1. `X_train_num` contains only numerical attributes (`longitude`, `latitude`, `housing_median_age`, `total_rooms`, `total_bedrooms`, `population`, `households`, `median_income`). This is a `DataFrame` object. \n",
    "2. `X_train_cat` contains only categorical attributes (namely `ocean_proximity`). This is a `Series` object.\n",
    "\n",
    "Ans:\n",
    "```\n",
    "X_train_num shape: (16512, 8)\n",
    "X_train_cat shape: (16512,)\n",
    "```"
   ]
  },
  {
   "cell_type": "code",
   "execution_count": 22,
   "metadata": {},
   "outputs": [],
   "source": [
    "# Your code here (2 lines)\n",
    "X_train_num = X_train.drop('ocean_proximity', axis=1)\n",
    "X_train_cat = X_train['ocean_proximity']"
   ]
  },
  {
   "cell_type": "code",
   "execution_count": 23,
   "metadata": {},
   "outputs": [
    {
     "name": "stdout",
     "output_type": "stream",
     "text": [
      "X_train_num shape: (16512, 8)\n",
      "X_train_cat shape: (16512,)\n"
     ]
    }
   ],
   "source": [
    "print('X_train_num shape:', X_train_num.shape)\n",
    "print('X_train_cat shape:', X_train_cat.shape)"
   ]
  },
  {
   "cell_type": "markdown",
   "metadata": {},
   "source": [
    "### 2.2 Handling missing values "
   ]
  },
  {
   "cell_type": "markdown",
   "metadata": {},
   "source": [
    "Then, it's time to perform cleaning. From the previous exploratory process, we know that `total_bedroom` has missing values. Type the code to show the number of missing values in each column."
   ]
  },
  {
   "cell_type": "code",
   "execution_count": 25,
   "metadata": {},
   "outputs": [
    {
     "name": "stdout",
     "output_type": "stream",
     "text": [
      "Number of missing values for all columns:\n"
     ]
    },
    {
     "data": {
      "text/plain": [
       "longitude               0\n",
       "latitude                0\n",
       "housing_median_age      0\n",
       "total_rooms             0\n",
       "total_bedrooms        162\n",
       "population              0\n",
       "households              0\n",
       "median_income           0\n",
       "dtype: int64"
      ]
     },
     "execution_count": 25,
     "metadata": {},
     "output_type": "execute_result"
    }
   ],
   "source": [
    "print('Number of missing values for all columns:')\n",
    "# Your code here\n",
    "X_train_num.isnull().sum()"
   ]
  },
  {
   "cell_type": "code",
   "execution_count": 27,
   "metadata": {},
   "outputs": [
    {
     "data": {
      "text/plain": [
       "0"
      ]
     },
     "execution_count": 27,
     "metadata": {},
     "output_type": "execute_result"
    }
   ],
   "source": [
    "X_train_cat.isnull().sum()"
   ]
  },
  {
   "cell_type": "markdown",
   "metadata": {},
   "source": [
    "**Exercise 12.** Fill up the missing values (or Imput) with the median value for each column. Use the Scikit-Learn library: [SimpleImputer](https://scikit-learn.org/stable/modules/generated/sklearn.impute.SimpleImputer.html) (click on hyperlink to learn how to use). It commences in three steps:\n",
    "1. Create the imputer object `imputer`. Set the median as the selected strategy (`strategy = 'median'`).  \n",
    "2. Fit the *training* set `X_train_num` using the fit command (`imputer.fit`). This will compute the median for all columns.\n",
    "3. Fill the missing values in `X_train_num` using the transform command (`imputer.transform`). Save your result as `X_train_num_tr`."
   ]
  },
  {
   "cell_type": "code",
   "execution_count": 29,
   "metadata": {},
   "outputs": [],
   "source": [
    "# Your code here (4 lines)\n",
    "from sklearn.impute import SimpleImputer\n",
    "imputer = SimpleImputer(strategy = 'median')\n",
    "imputer.fit(X_train_num)    #Check missing value columns and compute their median values\n",
    "X_train_num_tr = imputer.transform(X_train_num)"
   ]
  },
  {
   "cell_type": "markdown",
   "metadata": {},
   "source": [
    "**Exercise 13**. Although Scikit-Learn library accepts both numpy arrays and pandas dataFrames as input, they typically returns a numpy array as output. Verify that the input (`X_train_num`) is a panda DataFrame while the output (`X_train_num_tr`) is numpy array. \n",
    "\n",
    "Ans:\n",
    "```\n",
    "Type of X_train_num: <class 'pandas.core.frame.DataFrame'>\n",
    "Type of X_train_num_tr: <class 'numpy.ndarray'>\n",
    "```"
   ]
  },
  {
   "cell_type": "code",
   "execution_count": 31,
   "metadata": {},
   "outputs": [
    {
     "name": "stdout",
     "output_type": "stream",
     "text": [
      "Type of X_train_num:  <class 'pandas.core.frame.DataFrame'>\n",
      "Type of X_train_num_tr:  <class 'numpy.ndarray'>\n"
     ]
    }
   ],
   "source": [
    "# Your code here\n",
    "print('Type of X_train_num: ', type(X_train_num))\n",
    "print('Type of X_train_num_tr: ', type(X_train_num_tr))"
   ]
  },
  {
   "cell_type": "markdown",
   "metadata": {},
   "source": [
    "The following code shows that there is no more missing values in `total_bedrooms` through the code below."
   ]
  },
  {
   "cell_type": "code",
   "execution_count": 32,
   "metadata": {},
   "outputs": [
    {
     "name": "stdout",
     "output_type": "stream",
     "text": [
      "Number of missing values for all columns:\n"
     ]
    },
    {
     "data": {
      "text/plain": [
       "longitude             0\n",
       "latitude              0\n",
       "housing_median_age    0\n",
       "total_rooms           0\n",
       "total_bedrooms        0\n",
       "population            0\n",
       "households            0\n",
       "median_income         0\n",
       "dtype: int64"
      ]
     },
     "execution_count": 32,
     "metadata": {},
     "output_type": "execute_result"
    }
   ],
   "source": [
    "print('Number of missing values for all columns:')\n",
    "X_train_num_tr_pd = pd.DataFrame(X_train_num_tr, columns = X_train_num.columns)\n",
    "X_train_num_tr_pd.isnull().sum()"
   ]
  },
  {
   "cell_type": "markdown",
   "metadata": {},
   "source": [
    "### 2.3 Preprocessing numerical data: Standardization"
   ]
  },
  {
   "cell_type": "markdown",
   "metadata": {},
   "source": [
    "As observed earlier, the features in our input matrix have different scales. Some machine learning algorithm cannot handle features with varying scales very well. Therefore, we perform *standardization* on the features so that all the features have a mean of 0 and a standard deviation of 1. The standardization formula is given  as follows: \n",
    "\n",
    "$x'= \\frac{x - \\bar{x}}{\\sigma}$\n",
    "\n",
    "where $x'$ is the standardized feature, $x$ is the original feature vector, $\\bar{x}$ is the mean of that feature vector, and $\\sigma$  is its standard deviation.\n",
    "\n",
    "**Exercise 14.** Standardize the features by using the Scikit-Learn library [StandardScaler](http://scikit-learn.org/stable/modules/generated/sklearn.preprocessing.StandardScaler.html) (click on hyperlink to learn how to use). It commences in three steps:\n",
    "1. Create the scaler object called `scaler`.\n",
    "2. Fit the *training* set `X_train_num_tr` using the fit command (`scaler.fit`). This will compute the mean ($\\bar{x}$) and stand deviation ($\\sigma$) for all columns.\n",
    "3. Standardize a *targeted* dataset using the transform command (`scaler.transform`). Save the scaled data with the same name `X_train_num_tr`\n",
    "\n",
    "**Caution**: Do not run the above code twice to avoid using a wrong mean and standard value to scale your test set."
   ]
  },
  {
   "cell_type": "code",
   "execution_count": 33,
   "metadata": {},
   "outputs": [],
   "source": [
    "# Your code here (4 lines)\n",
    "from sklearn.preprocessing import StandardScaler\n",
    "scaler = StandardScaler()\n",
    "scaler.fit(X_train_num_tr) #Compute mean and std for all columns\n",
    "X_train_num_tr = scaler.transform(X_train_num_tr)"
   ]
  },
  {
   "cell_type": "markdown",
   "metadata": {},
   "source": [
    "\n",
    "\n",
    "If your implementation above is correct, the mean and standard deviation of `X_train_num_tr` are approximately 0 and 1, respectively. "
   ]
  },
  {
   "cell_type": "code",
   "execution_count": 34,
   "metadata": {},
   "outputs": [
    {
     "name": "stdout",
     "output_type": "stream",
     "text": [
      ">>> Mean of all columns:\n",
      " [ 1.62606793e-15  4.16850017e-15  1.24577351e-16 -6.97654682e-17\n",
      " -3.99658773e-17 -5.08583270e-17  7.27239113e-17  5.24989182e-17]\n",
      "\n",
      ">>> Std of all columns:\n",
      " [1. 1. 1. 1. 1. 1. 1. 1.]\n"
     ]
    }
   ],
   "source": [
    "print('>>> Mean of all columns:\\n', X_train_num_tr.mean(axis=0))\n",
    "print('\\n>>> Std of all columns:\\n', X_train_num_tr.std(axis=0))"
   ]
  },
  {
   "cell_type": "markdown",
   "metadata": {},
   "source": [
    "### 2.4 Preprocessing categorical Data: One-hot encoding\n",
    "\n",
    "Most machine learning can only handle numerical inputs. There is only one categorical feature in our dataset, namely `ocean_proximity` which we have extracted and stored in `X_train_cat`. `ocean_proximity` is a nominal data type since it has no order information. Therefore, the feature will be encoded using **one-hot encoding**.\n",
    "\n",
    "**Exercise 15.** Encode the categorical feature into its one-hot representation using the Scikit-Learn library [LabelBinarizer](http://scikit-learn.org/stable/modules/generated/sklearn.preprocessing.LabelBinarizer.html) (click on hyperlink to learn how to use). It commences in three steps:\n",
    "1. Create the LabelBinarizer object called `lb_encoder`.\n",
    "2. Fit the training set `X_train_cat` using the fit command (`lb_encoder.fit`). This will compute the possible values of the categorical feature in `X_train_cat`\n",
    "3. Standardize a targeted dataset using the transform command (`lb_encoder.transform`). Save the transformed feature as `X_train_cat_tr`."
   ]
  },
  {
   "cell_type": "code",
   "execution_count": 35,
   "metadata": {},
   "outputs": [],
   "source": [
    "# Your code here (4 lines)\n",
    "from sklearn.preprocessing import LabelBinarizer\n",
    "\n",
    "lb_encoder = LabelBinarizer()\n",
    "lb_encoder.fit(X_train_cat)\n",
    "X_train_cat_tr = lb_encoder.transform(X_train_cat)"
   ]
  },
  {
   "cell_type": "markdown",
   "metadata": {},
   "source": [
    "If your implementation is correct, then the following code will show that `X_train_cat_tr` is a *binary vector* of size (16512, 5). Each of the five columns corresponds to one possible value of the categorical feature `ocean_proximity`."
   ]
  },
  {
   "cell_type": "code",
   "execution_count": 37,
   "metadata": {},
   "outputs": [
    {
     "name": "stdout",
     "output_type": "stream",
     "text": [
      "Shape of X_train_cat_tr: (16512, 5) \n",
      "\n",
      "[[1 0 0 0 0]\n",
      " [1 0 0 0 0]\n",
      " [1 0 0 0 0]\n",
      " ...\n",
      " [0 0 0 0 1]\n",
      " [1 0 0 0 0]\n",
      " [0 1 0 0 0]] \n",
      "\n"
     ]
    }
   ],
   "source": [
    "print('Shape of X_train_cat_tr:', X_train_cat_tr.shape, '\\n')\n",
    "print(X_train_cat_tr, '\\n')\n"
   ]
  },
  {
   "cell_type": "markdown",
   "metadata": {},
   "source": [
    "You can list the possible values for the transformed feature through `lb_encoder.classes_`. The five possible values of `ocean_proximity` are `['<1H OCEAN' 'INLAND' 'ISLAND' 'NEAR BAY' 'NEAR OCEAN']`."
   ]
  },
  {
   "cell_type": "code",
   "execution_count": 38,
   "metadata": {},
   "outputs": [
    {
     "name": "stdout",
     "output_type": "stream",
     "text": [
      "Possible values of ocean_proximity:\n",
      " ['<1H OCEAN' 'INLAND' 'ISLAND' 'NEAR BAY' 'NEAR OCEAN']\n"
     ]
    }
   ],
   "source": [
    "print('Possible values of ocean_proximity:\\n', lb_encoder.classes_)"
   ]
  },
  {
   "cell_type": "markdown",
   "metadata": {},
   "source": [
    "### 2.5 Finalizing the training set\n",
    "\n",
    "**Exercise 16.** After cleaning and transforming our data, we can now finalize our dataset. First, we combine the transformed numerical and categorical sets `X_train_num_tr` and `X_train_cat_tr` into `X_train_tr`. Also, we convert `y_train` to numpy array format for subsequence model training process.\n",
    "\n",
    "Our finalized training set are:\n",
    "1. `X_train_tr` with shape (16512, 13)\n",
    "2. `y_train` with shape (16512,)"
   ]
  },
  {
   "cell_type": "code",
   "execution_count": 42,
   "metadata": {},
   "outputs": [
    {
     "name": "stdout",
     "output_type": "stream",
     "text": [
      "X_train_tr shape: (16512, 13)\n",
      "y_train shape: (16512,)\n"
     ]
    }
   ],
   "source": [
    "# 1. Combine numerical and categorical sets. Your code here (1 line)\n",
    "X_train_tr = np.hstack([X_train_num_tr, X_train_cat_tr])\n",
    "\n",
    "# 2. Convert y_train to numpy array. Your code here (1 line)\n",
    "y_train = y_train.values;\n",
    "\n",
    "print('X_train_tr shape:', X_train_tr.shape)\n",
    "print('y_train shape:', y_train.shape)"
   ]
  },
  {
   "cell_type": "markdown",
   "metadata": {},
   "source": [
    "### .........To be continued in P05"
   ]
  }
 ],
 "metadata": {
  "kernelspec": {
   "display_name": "Python 3 (ipykernel)",
   "language": "python",
   "name": "python3"
  },
  "language_info": {
   "codemirror_mode": {
    "name": "ipython",
    "version": 3
   },
   "file_extension": ".py",
   "mimetype": "text/x-python",
   "name": "python",
   "nbconvert_exporter": "python",
   "pygments_lexer": "ipython3",
   "version": "3.12.4"
  }
 },
 "nbformat": 4,
 "nbformat_minor": 4
}
