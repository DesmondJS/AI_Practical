{
 "cells": [
  {
   "cell_type": "markdown",
   "metadata": {},
   "source": [
    "# P05: The Regression Pipeline -Training and Testing\n",
    "\n",
    "This practical is best done only after you have gone through the lectures *L03:The Regression Pipeline*.\n",
    "\n",
    "1. [Data Collection and Exploration](#1.0-Data-Collection-and-Exploration)\n",
    "2. [Data Preprocessing](#2.0-Data-Preprocessing)\n",
    "3. [Select and Train a Model](#3.0-Select-and-Train-a-Model)\n",
    "   1. [Training a regression model](#3.1-Training-a-regression-model)\n",
    "   2. [Evaluating a model using cross-validation](#3.2-Evaluating-a-model-using-cross-validation)\n",
    "   3. [Fine-tune the model using Grid Search](#3.3-Fine-tune-the-model-using-Grid-Search)\n",
    "4. [Evaluate system on unseen data (Test Set)](#4.0-Evaluate-system-on-unseen-data)\n"
   ]
  },
  {
   "cell_type": "code",
   "execution_count": 1,
   "metadata": {},
   "outputs": [],
   "source": [
    "import pandas as pd\n",
    "import numpy as np\n",
    "import matplotlib.pyplot as plt"
   ]
  },
  {
   "cell_type": "markdown",
   "metadata": {},
   "source": [
    "---\n",
    "## 1.0 Data Collection and Exploration\n",
    "\n",
    "We have gone through this portion of the code in great detail in the previous practical (P04)."
   ]
  },
  {
   "cell_type": "code",
   "execution_count": 2,
   "metadata": {},
   "outputs": [
    {
     "name": "stdout",
     "output_type": "stream",
     "text": [
      "==> Loading the dataset...\n",
      "done\n",
      "\n"
     ]
    }
   ],
   "source": [
    "# Load the dataset\n",
    "print ('==> Loading the dataset...')\n",
    "housing = pd.read_csv(\"housing.csv\")\n",
    "print ('done\\n')\n"
   ]
  },
  {
   "cell_type": "markdown",
   "metadata": {},
   "source": [
    "---\n",
    "## 2.0 Data Preprocessing"
   ]
  },
  {
   "cell_type": "markdown",
   "metadata": {},
   "source": [
    "We have gone through this portion of the code in great detail in the previous practical (P04)."
   ]
  },
  {
   "cell_type": "code",
   "execution_count": 3,
   "metadata": {},
   "outputs": [
    {
     "name": "stdout",
     "output_type": "stream",
     "text": [
      "X_train_tr shape: (16512, 13)\n",
      "y_train shape: (16512,)\n"
     ]
    }
   ],
   "source": [
    "# Split the data set into the input matrix and output vector\n",
    "X = housing.drop('median_house_value', axis = 1)\n",
    "y = housing['median_house_value']\n",
    "\n",
    "## Split the dataset into training and testing set\n",
    "from sklearn.model_selection import train_test_split\n",
    "X_train, X_test, y_train, y_test = train_test_split(X, y, test_size=0.2, random_state=30)\n",
    "\n",
    "# split the input matrix into numerical and categorical attributes\n",
    "X_train_num  = X_train.drop('ocean_proximity', axis = 1)\n",
    "X_train_cat  = X_train['ocean_proximity']\n",
    "\n",
    "# Fill missing values with median\n",
    "from sklearn.impute import SimpleImputer   \n",
    "imputer = SimpleImputer(strategy = 'median')\n",
    "imputer.fit(X_train_num)                              # compute the median     \n",
    "X_train_num_tr = imputer.transform(X_train_num)       # fill up missing values with median value for the feature\n",
    "\n",
    "# Standardize numeric data\n",
    "from sklearn.preprocessing import StandardScaler\n",
    "scaler = StandardScaler(copy = False)\n",
    "scaler.fit(X_train_num_tr)       \n",
    "X_train_num_tr = scaler.transform(X_train_num_tr)\n",
    "\n",
    "# One-hot encode categorical data\n",
    "from sklearn.preprocessing import LabelBinarizer\n",
    "lb_encoder = LabelBinarizer()\n",
    "lb_encoder.fit(X_train_cat)\n",
    "X_train_cat_tr = lb_encoder.transform(X_train_cat)       # returns numpy array\n",
    "\n",
    "# combine the transformed numerical and categorical sets\n",
    "X_train_tr = np.hstack([X_train_num_tr, X_train_cat_tr])\n",
    "y_train = y_train.values;  #convert to numpy array\n",
    "print('X_train_tr shape:', X_train_tr.shape)\n",
    "print('y_train shape:', y_train.shape)"
   ]
  },
  {
   "cell_type": "markdown",
   "metadata": {},
   "source": [
    "---\n",
    "## 3.0 Select and Train a Model\n",
    "\n",
    "### 3.1 Training a regression model\n",
    "\n",
    "Having preprocessed the data, in this step, we train a model to fit our dataset. We shall try three different models:\n",
    "1. [LinearRegression](http://scikit-learn.org/stable/modules/generated/sklearn.linear_model.LinearRegression.html): this is a linear model that uses a linear model to fit the data. The model is determined using Ordinary Least Squares. \n",
    "2. [DecisionTreeRegressor](http://scikit-learn.org/stable/modules/generated/sklearn.tree.DecisionTreeRegressor.html): this is a more powerful model capable of finding complex nonlinear relationship.\n",
    "3. [RandomForestRegressor](http://scikit-learn.org/stable/modules/generated/sklearn.ensemble.RandomForestRegressor.html): this is an ensemble model that trains many decision trees on random subsets of features and then average out their predictions.\n",
    "\n",
    "**Notes**: For the purpose of this practical, it is not necessary for us to understand the details of how these machine learning algorithms work, for now. "
   ]
  },
  {
   "cell_type": "markdown",
   "metadata": {},
   "source": [
    "####  Model #1: Linear Regression model"
   ]
  },
  {
   "cell_type": "markdown",
   "metadata": {},
   "source": [
    "First, let's try to fit the California *housing* dataset using the linear regression model ([LinearRegression](http://scikit-learn.org/stable/modules/generated/sklearn.linear_model.LinearRegression.html)). The model uses the normal equation to solve the problem where it assumes that the data to be *linear*.\n",
    "\n",
    "*Training the model*\n",
    "\n",
    "The following code shows how to train a linear regression model. In Scikit-Learn, this commences in two simple step:\n",
    "\n",
    "1. `lin_reg = LinearRegression()` creates the regressor object\n",
    "2. `lin_reg.fit(X_train_tr, y_train)` trains our model on our training set (`X_train_tr`,`y_train`)"
   ]
  },
  {
   "cell_type": "code",
   "execution_count": 4,
   "metadata": {},
   "outputs": [
    {
     "data": {
      "text/html": [
       "<style>#sk-container-id-1 {color: black;}#sk-container-id-1 pre{padding: 0;}#sk-container-id-1 div.sk-toggleable {background-color: white;}#sk-container-id-1 label.sk-toggleable__label {cursor: pointer;display: block;width: 100%;margin-bottom: 0;padding: 0.3em;box-sizing: border-box;text-align: center;}#sk-container-id-1 label.sk-toggleable__label-arrow:before {content: \"▸\";float: left;margin-right: 0.25em;color: #696969;}#sk-container-id-1 label.sk-toggleable__label-arrow:hover:before {color: black;}#sk-container-id-1 div.sk-estimator:hover label.sk-toggleable__label-arrow:before {color: black;}#sk-container-id-1 div.sk-toggleable__content {max-height: 0;max-width: 0;overflow: hidden;text-align: left;background-color: #f0f8ff;}#sk-container-id-1 div.sk-toggleable__content pre {margin: 0.2em;color: black;border-radius: 0.25em;background-color: #f0f8ff;}#sk-container-id-1 input.sk-toggleable__control:checked~div.sk-toggleable__content {max-height: 200px;max-width: 100%;overflow: auto;}#sk-container-id-1 input.sk-toggleable__control:checked~label.sk-toggleable__label-arrow:before {content: \"▾\";}#sk-container-id-1 div.sk-estimator input.sk-toggleable__control:checked~label.sk-toggleable__label {background-color: #d4ebff;}#sk-container-id-1 div.sk-label input.sk-toggleable__control:checked~label.sk-toggleable__label {background-color: #d4ebff;}#sk-container-id-1 input.sk-hidden--visually {border: 0;clip: rect(1px 1px 1px 1px);clip: rect(1px, 1px, 1px, 1px);height: 1px;margin: -1px;overflow: hidden;padding: 0;position: absolute;width: 1px;}#sk-container-id-1 div.sk-estimator {font-family: monospace;background-color: #f0f8ff;border: 1px dotted black;border-radius: 0.25em;box-sizing: border-box;margin-bottom: 0.5em;}#sk-container-id-1 div.sk-estimator:hover {background-color: #d4ebff;}#sk-container-id-1 div.sk-parallel-item::after {content: \"\";width: 100%;border-bottom: 1px solid gray;flex-grow: 1;}#sk-container-id-1 div.sk-label:hover label.sk-toggleable__label {background-color: #d4ebff;}#sk-container-id-1 div.sk-serial::before {content: \"\";position: absolute;border-left: 1px solid gray;box-sizing: border-box;top: 0;bottom: 0;left: 50%;z-index: 0;}#sk-container-id-1 div.sk-serial {display: flex;flex-direction: column;align-items: center;background-color: white;padding-right: 0.2em;padding-left: 0.2em;position: relative;}#sk-container-id-1 div.sk-item {position: relative;z-index: 1;}#sk-container-id-1 div.sk-parallel {display: flex;align-items: stretch;justify-content: center;background-color: white;position: relative;}#sk-container-id-1 div.sk-item::before, #sk-container-id-1 div.sk-parallel-item::before {content: \"\";position: absolute;border-left: 1px solid gray;box-sizing: border-box;top: 0;bottom: 0;left: 50%;z-index: -1;}#sk-container-id-1 div.sk-parallel-item {display: flex;flex-direction: column;z-index: 1;position: relative;background-color: white;}#sk-container-id-1 div.sk-parallel-item:first-child::after {align-self: flex-end;width: 50%;}#sk-container-id-1 div.sk-parallel-item:last-child::after {align-self: flex-start;width: 50%;}#sk-container-id-1 div.sk-parallel-item:only-child::after {width: 0;}#sk-container-id-1 div.sk-dashed-wrapped {border: 1px dashed gray;margin: 0 0.4em 0.5em 0.4em;box-sizing: border-box;padding-bottom: 0.4em;background-color: white;}#sk-container-id-1 div.sk-label label {font-family: monospace;font-weight: bold;display: inline-block;line-height: 1.2em;}#sk-container-id-1 div.sk-label-container {text-align: center;}#sk-container-id-1 div.sk-container {/* jupyter's `normalize.less` sets `[hidden] { display: none; }` but bootstrap.min.css set `[hidden] { display: none !important; }` so we also need the `!important` here to be able to override the default hidden behavior on the sphinx rendered scikit-learn.org. See: https://github.com/scikit-learn/scikit-learn/issues/21755 */display: inline-block !important;position: relative;}#sk-container-id-1 div.sk-text-repr-fallback {display: none;}</style><div id=\"sk-container-id-1\" class=\"sk-top-container\"><div class=\"sk-text-repr-fallback\"><pre>LinearRegression()</pre><b>In a Jupyter environment, please rerun this cell to show the HTML representation or trust the notebook. <br />On GitHub, the HTML representation is unable to render, please try loading this page with nbviewer.org.</b></div><div class=\"sk-container\" hidden><div class=\"sk-item\"><div class=\"sk-estimator sk-toggleable\"><input class=\"sk-toggleable__control sk-hidden--visually\" id=\"sk-estimator-id-1\" type=\"checkbox\" checked><label for=\"sk-estimator-id-1\" class=\"sk-toggleable__label sk-toggleable__label-arrow\">LinearRegression</label><div class=\"sk-toggleable__content\"><pre>LinearRegression()</pre></div></div></div></div></div>"
      ],
      "text/plain": [
       "LinearRegression()"
      ]
     },
     "execution_count": 4,
     "metadata": {},
     "output_type": "execute_result"
    }
   ],
   "source": [
    "from sklearn.linear_model import LinearRegression\n",
    "\n",
    "lin_reg = LinearRegression()\n",
    "lin_reg.fit(X_train_tr, y_train)"
   ]
  },
  {
   "cell_type": "markdown",
   "metadata": {},
   "source": [
    "*Performance on training model*\n",
    "\n",
    "Having fitted our dataset, we evaluate the performance of our model on the training set. First, let's use our model to predict the median house price (our targeted variable) for all samples in our training set itself. "
   ]
  },
  {
   "cell_type": "code",
   "execution_count": 5,
   "metadata": {},
   "outputs": [],
   "source": [
    "y_pred = lin_reg.predict(X_train_tr) # predict"
   ]
  },
  {
   "cell_type": "markdown",
   "metadata": {},
   "source": [
    "Then, we display the predicted values for 10 random training samples "
   ]
  },
  {
   "cell_type": "code",
   "execution_count": 21,
   "metadata": {},
   "outputs": [
    {
     "name": "stdout",
     "output_type": "stream",
     "text": [
      "Result for the 10 random samples:\n",
      "actual =  500001 pred = 403701\n",
      "actual =  195800 pred = 244211\n",
      "actual =  266400 pred = 245658\n",
      "actual =  159600 pred = 222640\n",
      "actual =  213800 pred = 257374\n",
      "actual =   92500 pred = 172032\n",
      "actual =  137500 pred =  85066\n",
      "actual =  171200 pred = 144961\n",
      "actual =  201800 pred = 219032\n",
      "actual =   88300 pred = 176675\n"
     ]
    }
   ],
   "source": [
    "def show10results(y_train, y_pred):\n",
    "    print('Result for the 10 random samples:')\n",
    "    selected = np.random.randint(0, len(y_train), 10)\n",
    "    for i in selected:\n",
    "        print('actual = {:7.0f} pred ={:7.0f}'.format(y_train[i], y_pred[i]))\n",
    "\n",
    "show10results(y_train, y_pred)"
   ]
  },
  {
   "cell_type": "markdown",
   "metadata": {},
   "source": [
    "To quantify how well our model fits the data, we shall use use the *Root Mean Squared Error* (RMSE) to evaluate the performance of our model:\n",
    "\n",
    "<br><br> <center>$MSE = \\frac{1}{m}\\sum_{i=1}^m ({h(x^{(i)}) - y^{(i)}})^2$ </center>\n",
    "<br> <center>$RMSE = \\sqrt{MSE}$</center>\n",
    "<br>   "
   ]
  },
  {
   "cell_type": "code",
   "execution_count": 22,
   "metadata": {},
   "outputs": [
    {
     "name": "stdout",
     "output_type": "stream",
     "text": [
      "RMSE = 67862.00578972207\n"
     ]
    }
   ],
   "source": [
    "from sklearn.metrics import mean_squared_error\n",
    "\n",
    "lin_mse = mean_squared_error(y_pred, y_train)\n",
    "lin_rmse = np.sqrt(lin_mse)\n",
    "print('RMSE =', lin_rmse)"
   ]
  },
  {
   "cell_type": "markdown",
   "metadata": {},
   "source": [
    "Comparing with the average `median_house_value` as computed below:"
   ]
  },
  {
   "cell_type": "code",
   "execution_count": 23,
   "metadata": {},
   "outputs": [
    {
     "data": {
      "text/plain": [
       "206855.81690891474"
      ]
     },
     "execution_count": 23,
     "metadata": {},
     "output_type": "execute_result"
    }
   ],
   "source": [
    "housing.median_house_value.mean()"
   ]
  },
  {
   "cell_type": "markdown",
   "metadata": {},
   "source": [
    "*Discussion on result*:\n",
    "\n",
    "Comparing with the average `median_house_value` of 206,855, a typical prediction error of 67,862 (67862/206855=33%) is not very satisfying. This is an example of **model underfitting**. When this happen, it means the features do not provide enough information to make good predictions or that the model is not powerful enough. \n",
    "\n",
    "We shall explore more powerful models."
   ]
  },
  {
   "cell_type": "markdown",
   "metadata": {},
   "source": [
    "#### Model #2: Decision Tree Regression Model\n",
    "\n",
    "The Decision Tree Regressor (`DecisionTreeRegressor`) is a more powerful model compared to `LinearRegression` model. It is able to model non-linear relationships whereas `LinearRegression` could not.\n",
    "\n",
    "**Exercise 1.** Build the regressor model using [DecisionTreeRegressor](http://scikit-learn.org/stable/modules/generated/sklearn.tree.DecisionTreeRegressor.html) and compute the RMSE of the training set. Set the `random_state` parameter to 42 as seed so that we get the same result each time we run the program. Then, predict the median house value on all training samples and randomly show the result for 10 randomly selected samples. Finally, compute the training RMSE."
   ]
  },
  {
   "cell_type": "code",
   "execution_count": 26,
   "metadata": {},
   "outputs": [
    {
     "name": "stdout",
     "output_type": "stream",
     "text": [
      "Result for the 10 random samples:\n",
      "actual =  245700 pred = 245700\n",
      "actual =  350900 pred = 350900\n",
      "actual =  194600 pred = 194600\n",
      "actual =  218200 pred = 218200\n",
      "actual =  281300 pred = 281300\n",
      "actual =  128600 pred = 128600\n",
      "actual =  465800 pred = 465800\n",
      "actual =   75000 pred =  75000\n",
      "actual =  416500 pred = 416500\n",
      "actual =  275000 pred = 275000\n",
      "RMSE =  0.0\n"
     ]
    }
   ],
   "source": [
    "from sklearn.tree import DecisionTreeRegressor\n",
    "\n",
    "# create a instance of DecisionTreeRegressor\n",
    "# tree_reg = ?\n",
    "tree_reg = DecisionTreeRegressor(random_state=42)\n",
    "\n",
    "# Train the regressor model\n",
    "tree_reg.fit(X_train_tr, y_train)\n",
    "\n",
    "# Predict on training set using trained regressor\n",
    "y_pred = tree_reg.predict(X_train_tr)\n",
    "\n",
    "# Show the result of 10 random samples\n",
    "show10results(y_train, y_pred)\n",
    "\n",
    "# Compute and show the RMSE on training set\n",
    "tree_mse = mean_squared_error(y_pred, y_train)\n",
    "tree_rmse = np.sqrt(tree_mse)\n",
    "print('RMSE = ', tree_rmse)"
   ]
  },
  {
   "cell_type": "markdown",
   "metadata": {},
   "source": [
    "You should see that we get an almost perfect result when we use DecisionTreeRegressor. The result is too good to be true. Indeed, later, we shall see that this model severely **overfits** our data."
   ]
  },
  {
   "cell_type": "markdown",
   "metadata": {},
   "source": [
    "#### Model #3: RandomForestRegressor model\n",
    "\n",
    "Finally, we build the regressor model using `RandomForestRegressor` which builds an ensemble of decision trees. You shall see that it is the better model compared to `DecisionTreeRegressor` and `LinearRegression`. It has less of the overfitting issue and no underfitting issue. There is still a bit of an overfitting here, but it can be easily identified and resolved when we use cross-validation to fine-tune the model.  \n",
    "\n",
    "**Exercise 2.** Build the regressor model using [RandomForestRegressor](http://scikit-learn.org/stable/modules/generated/sklearn.ensemble.RandomForestRegressor.html) and compute the RMSE of the training set. Set parameter `n_estimators` to 10 and `random_state` to 42 as seed so that we get the same result each time we run the program.\n"
   ]
  },
  {
   "cell_type": "code",
   "execution_count": 28,
   "metadata": {},
   "outputs": [
    {
     "name": "stdout",
     "output_type": "stream",
     "text": [
      "Result for the 10 random samples:\n",
      "actual =  156200 pred = 181910\n",
      "actual =  118800 pred = 105610\n",
      "actual =  110700 pred = 112100\n",
      "actual =   73600 pred =  79720\n",
      "actual =  210900 pred = 194980\n",
      "actual =  134700 pred = 136750\n",
      "actual =   56800 pred =  65730\n",
      "actual =  105800 pred = 121260\n",
      "actual =  184300 pred = 211500\n",
      "actual =  266700 pred = 250380\n",
      "RMSE:  21461.725210489367\n"
     ]
    }
   ],
   "source": [
    "from sklearn.ensemble import RandomForestRegressor\n",
    "\n",
    "# create a instance of RandomForestRegressor\n",
    "# forest_reg = ?\n",
    "forest_reg = RandomForestRegressor(n_estimators = 10, random_state = 42)\n",
    "\n",
    "# Train the regressor model\n",
    "forest_reg.fit(X_train_tr, y_train)\n",
    "\n",
    "# Predict on training set using trained regressor\n",
    "y_pred = forest_reg.predict(X_train_tr)\n",
    "\n",
    "# Show the result of 10 random samples\n",
    "show10results(y_train, y_pred)\n",
    "\n",
    "# Compute and show the RMSE on training set\n",
    "forest_mse = mean_squared_error(y_train, y_pred)\n",
    "forest_rmse = np.sqrt(forest_mse)\n",
    "print('RMSE: ', forest_rmse)\n"
   ]
  },
  {
   "cell_type": "markdown",
   "metadata": {},
   "source": [
    "#### Discussion on the training error\n",
    "The RMSE results for the three models that we have built are summarized below:\n",
    "\n",
    "| Model| Training RMSE|\n",
    "|-----|-----|\n",
    "| LinearRegresssion | 67862\n",
    "| DecisionTreeRegressor | 0 |\n",
    "| RandomForestRegressor | 21461 |\n",
    "\n",
    "Here are some of the conclusions:\n",
    "1. *LinearRegression may have underfitting issue*\n",
    "   1. RMSE = 67862 is not a great score. The district's average median housing values is \\$206,855. So, a RMSE score of 67,862 is high\n",
    "   2. Likely encounter underfitting due to the high training error\n",
    "   3. To solve underfitting model:\n",
    "      1. Use a more powerful model\n",
    "      2. Add more feature     \n",
    "      <br>\n",
    "2. *DecisionTreeRegressor may have overfitting issue*\n",
    "   1. RMSE = 0 is too good\n",
    "   2. Likely encounter overfitting due to a powerful model. To confirm, compute the cross-validation score (next section)\n",
    "   3. To solve overfitting problem:\n",
    "      1. Add more training samples\n",
    "      2. Use less feature\n",
    "      3. Perform regularization    \n",
    "      <br>\n",
    "3. *RandomForestRegressor*\n",
    "   1. Deliver the best result among the three models\n",
    "   2. May still have a bit of overfitting, but this can be easily identified and resolved through cross-validation.\n",
    "\n",
    "#### Issues to be resolved next: \n",
    "There are several issues with the the models we have created just now.\n",
    "1. Evaluating directly on the training set is misleading because the RMSE score will very likely be over-optimistic. We shall get more accurate scores through cross-validation (discuss next). Selecting the model with the best cross-validation score reduces  overfitting to a certain degree.\n",
    "2. We have not tuned our model. Since fine-tuning on the testing set is strictly prohibited, we need a validation set to tune our model. \n",
    "\n",
    "Next, we shall validate and fine-tune our model using **cross-validation** next.\n"
   ]
  },
  {
   "cell_type": "markdown",
   "metadata": {},
   "source": [
    "---\n",
    "### 3.2 Evaluating a model using cross-validation\n",
    "\n",
    "It is a common practice to perform **cross-validation** where a  portion of the training set is set aside specifically for evaluation and fine-tuning purposes. The data being set aside is called the **validation set**. \n",
    "\n",
    "There are different ways to perform cross-validation:\n",
    "1. Hold-out validation\n",
    "2. k-fold cross-out validation\n",
    "\n",
    "In the following, we shall implement the k-fold cross-out validation"
   ]
  },
  {
   "attachments": {
    "cross-validation.png": {
     "image/png": "[encoded data removed]"
    }
   },
   "cell_type": "markdown",
   "metadata": {},
   "source": [
    "#### Cross-validation on Model #1: Linear Regression model\n",
    "\n",
    "In the following, we will perform a 5-fold cross validation on the LinearRegression Model. The Scikit-Learn library provides the function [cross_val_score](http://scikit-learn.org/stable/modules/generated/sklearn.model_selection.cross_val_score.html) to perform k-fold cross-validation easily.\n",
    "\n",
    "The command\n",
    "```\n",
    "k_fold_scores = cross_val_score(lin_reg, X_train_tr, y_train, scoring = 'neg_mean_squared_error', cv=5)\n",
    "```\n",
    "performs the 5-fold cross validation:\n",
    "\n",
    "\n",
    "1. In each iteration:\n",
    "   1. One (unevaluated) fold is used to evaluate the performance of the model.  \n",
    "   1. The remaining four folds are used to train a model using the preditor `lin_reg` on the training set (`X_train_tr`, `y_train`)   \n",
    "<img src = \"attachment:cross-validation.png\" width = 50%>\n",
    "<br>\n",
    "2. The function returns the negative mean squared error (NMSE) by setting `scoring = neg_mean_squared_error`. It does so since it uses a utility function to maximize the final score rather than a cost function that minimizes the final score. The negative mean squared error is defined as: \n",
    "<br><br> <center>$NMSE = -MSE$</center>\n",
    "<br>   \n",
    "3. In order to get back the root mean squared error (RMSE) from the negative mean squared error (`neg_mean_squared_error`) compute $RMSE = \\sqrt{-NMSE}$:\n",
    "```\n",
    "linreg_rmse_scores = np.sqrt(-scores)\n",
    "```"
   ]
  },
  {
   "cell_type": "code",
   "execution_count": 29,
   "metadata": {
    "scrolled": true
   },
   "outputs": [],
   "source": [
    "from sklearn.model_selection import cross_val_score\n",
    "\n",
    "k_fold_scores = cross_val_score(lin_reg, X_train_tr, y_train, \n",
    "                                scoring = 'neg_mean_squared_error', cv=5)\n",
    "\n",
    "linreg_rmse_scores = np.sqrt(-k_fold_scores)"
   ]
  },
  {
   "cell_type": "markdown",
   "metadata": {},
   "source": [
    "The following shows the validation score across all 5 folds. The average of these scores (**average cross-validation score**) is a more accurate performance measure compared to the *training score*. The standard deviation further tell us the predictor's reliability (if it is too high, the cross-validation error could be imprecise)."
   ]
  },
  {
   "cell_type": "code",
   "execution_count": 30,
   "metadata": {},
   "outputs": [
    {
     "name": "stdout",
     "output_type": "stream",
     "text": [
      "Scores: [69433.4768204  68307.7221487  68301.117204   67566.73279258\n",
      " 66257.83374294] \n",
      "\n",
      "Mean: 67973.37654172447\n",
      "Standard deviation: 1044.9440160651611\n"
     ]
    }
   ],
   "source": [
    "def display_scores(scores):\n",
    "    print('Scores:', scores, '\\n')\n",
    "    print('Mean:', scores.mean())\n",
    "    print('Standard deviation:', scores.std())\n",
    "    \n",
    "display_scores(linreg_rmse_scores)"
   ]
  },
  {
   "cell_type": "markdown",
   "metadata": {},
   "source": [
    "**Notes**: the function `cross_val_score` **will not update our model `lin_reg` with any of the fitted models**. This is because `cross_val_score` makes a copy of `lin_reg` and train using only the copy version. Consequently, none of the models built are saved."
   ]
  },
  {
   "cell_type": "markdown",
   "metadata": {},
   "source": [
    "#### Cross-validation on Model #2: Decision Tree Regressor\n",
    "\n",
    "**Exercise 3.** Perform a 5-fold cross validation on DecisionTreeRegressor and show the scores.\n"
   ]
  },
  {
   "cell_type": "code",
   "execution_count": 31,
   "metadata": {
    "scrolled": true
   },
   "outputs": [
    {
     "name": "stdout",
     "output_type": "stream",
     "text": [
      "Scores: [70622.2277572  68670.10432599 72373.00128251 70048.86301873\n",
      " 70337.26503253] \n",
      "\n",
      "Mean: 70410.29228339181\n",
      "Standard deviation: 1188.3906327522175\n"
     ]
    }
   ],
   "source": [
    "# use cross_val_score on tree_reg\n",
    "k_fold_scores = cross_val_score(tree_reg, X_train_tr, y_train, scoring = 'neg_mean_squared_error', cv=5)\n",
    "\n",
    "# covert NMSE to RMSE\n",
    "treereg_rmse_scores = np.sqrt(-k_fold_scores)\n",
    "\n",
    "# use display_scores to show the results\n",
    "display_scores(treereg_rmse_scores)"
   ]
  },
  {
   "cell_type": "markdown",
   "metadata": {},
   "source": [
    "#### Cross-validation on Model #3: Random Forest Regressor\n",
    "\n",
    "**Exercise 4.** Perform a 5-fold cross validation on RandomForestRegressor and show the scores. \n"
   ]
  },
  {
   "cell_type": "code",
   "execution_count": 32,
   "metadata": {},
   "outputs": [
    {
     "name": "stdout",
     "output_type": "stream",
     "text": [
      "Scores: [53420.4430479  51624.04916673 52572.20796094 51320.53310458\n",
      " 51717.49813802] \n",
      "\n",
      "Mean: 52130.94628363521\n",
      "Standard deviation: 767.0941728264665\n"
     ]
    }
   ],
   "source": [
    "# use cross_val_score on forest_reg\n",
    "k_fold_scores = cross_val_score(forest_reg, X_train_tr, y_train, scoring = 'neg_mean_squared_error', cv=5)\n",
    "\n",
    "# covert NMSE to RMSE\n",
    "forestreg_rmse_scores = np.sqrt(-k_fold_scores)\n",
    "\n",
    "# use display_scores to show the results\n",
    "display_scores(forestreg_rmse_scores)"
   ]
  },
  {
   "cell_type": "markdown",
   "metadata": {},
   "source": [
    "---\n",
    "### 3.3 Fine-tune the model using Grid Search"
   ]
  },
  {
   "cell_type": "markdown",
   "metadata": {},
   "source": [
    "In the previous step, we have learnt how to *evaluate the performance* of a model using *cross-validation*. We can also use cross-validation to **fine-tune the model**. Each model comes with different **hyperparameters**. Hyperparameters are the settings of a machine learning that needs to be set prior to training. \n",
    "To find the best hyperparameter values for these settings, we shall use the Grid Search. \n",
    "\n",
    "#### Finding the best hyperparameter for *RandomForestRegressor* using Grid Search\n",
    "\n",
    "Let's take *RandomForestRegressor* as our test case.  RandomForestRegressor is a meta estimator where the decision tree classifier is trained on different sub-samples of the dataset, thus generating different models. The result from the models are averaged to improve the predictive accuracy and control over-fitting. The hyperparameters for RandomForestRegressor are:\n",
    "1. `n_estimators`: The number of trees in the forest. \n",
    "2. `max_features`: The number of features to consider when looking for the best split. This is a hyperparameter for decision tree classifier. There is no need for us to know in detail how decision tree works to go through this practical.\n",
    "3. `bootstrap`: Whether bootstrap samples are used when building trees. If bootstrap = True, the sub-sample size is always the same as the original input sample size but the samples are drawn with replacement\n",
    "\n",
    "**Defining the grid to search**\n",
    "1. `n_estimators`: [12, 20, 28] \n",
    "2. `max_features`: [4, 6, 8]\n",
    "3. `bootstrap`: [True, False]\n",
    "\n",
    "The total models generated and evaluated is 3 x 3 x 2 = 18 models.\n",
    "\n",
    "\n",
    "\n",
    "\n"
   ]
  },
  {
   "cell_type": "code",
   "execution_count": null,
   "metadata": {},
   "outputs": [],
   "source": [
    "param_grid = {'bootstrap': [True, False],'n_estimators': [12, 20, 28], 'max_features':[4, 6, 8]}"
   ]
  },
  {
   "cell_type": "markdown",
   "metadata": {},
   "source": [
    "**Performing grid search**\n",
    "<br>\n",
    "The following code shows how to perform a grid search using Scikit-Learn [GridSearchCV](http://scikit-learn.org/stable/modules/generated/sklearn.model_selection.GridSearchCV.html). \n",
    "\n",
    "  1. Create our predictor (machine learning) object. Here, we use the *RandomForestRegressor*. \n",
    "<br> `forest_reg = RandomForestRegressor(random_state=42)`   \n",
    "<br> \n",
    "  2. Create the grid search object, during which we specify the predictor object, the number of folds and the scoring measure.\n",
    "`grid_search = GridSearchCV(forest_reg, param_grid, cv=5, scoring = 'neg_mean_squared_error')`\n",
    "     * `forest_reg` is the machine learning object used to build the model\n",
    "     * `param_grid` is the hyperparameter settings to be evaluated\n",
    "     * `cv=5` means 5-fold cross validation\n",
    "     * `scoring = 'neg_mean_squared_error'` uses the negative mean squared error for evaluation   \n",
    "<br>\n",
    "  3. Then, we perform grid search using the `.fit` command. This will take some time.\n",
    "<br>`grid_search.fit(X_train_tr, y_train)`\n",
    "     * Performs the fine-tuning process. \n",
    "     * In our case, a total of 18 models would be trained using the 18 different settings mentioned above. "
   ]
  },
  {
   "cell_type": "markdown",
   "metadata": {},
   "source": [
    "**Exercise 5.** Write code to perform grid search and 5-fold cross-validation to find the best model using a RandomForestRegressor."
   ]
  },
  {
   "cell_type": "code",
   "execution_count": 33,
   "metadata": {},
   "outputs": [
    {
     "name": "stdout",
     "output_type": "stream",
     "text": [
      "Performing grid search...done\n"
     ]
    }
   ],
   "source": [
    "from sklearn.model_selection import GridSearchCV\n",
    "\n",
    "# create an instance of RandomForestRegressor(random_state=42)\n",
    "# forest_reg = ?\n",
    "forest_reg = RandomForestRegressor(random_state = 42)\n",
    "\n",
    "# define param_grid (you may used the one defined above)\n",
    "# param_grid = ?\n",
    "param_grid = {'bootstrap': [True, False],'n_estimators': [12, 20, 28], 'max_features':[4, 6, 8]}\n",
    "\n",
    "# create an instance of GridSearchCV using param_grid with 5-fold cv\n",
    "# grid_search = ?\n",
    "grid_search = GridSearchCV(forest_reg, param_grid, cv=5, scoring = 'neg_mean_squared_error')\n",
    "\n",
    "print ('Performing grid search...', end = '')\n",
    "# perform grid search\n",
    "grid_search.fit(X_train_tr, y_train)\n",
    "\n",
    "print('done')"
   ]
  },
  {
   "cell_type": "markdown",
   "metadata": {},
   "source": [
    "We can get the **best model** out of all 18 models trained by grid search through the command `grid_search.best_estimator_`. You may want to save this model to be used for final testing or deployment later. "
   ]
  },
  {
   "cell_type": "code",
   "execution_count": 34,
   "metadata": {},
   "outputs": [
    {
     "data": {
      "text/html": [
       "<style>#sk-container-id-2 {color: black;}#sk-container-id-2 pre{padding: 0;}#sk-container-id-2 div.sk-toggleable {background-color: white;}#sk-container-id-2 label.sk-toggleable__label {cursor: pointer;display: block;width: 100%;margin-bottom: 0;padding: 0.3em;box-sizing: border-box;text-align: center;}#sk-container-id-2 label.sk-toggleable__label-arrow:before {content: \"▸\";float: left;margin-right: 0.25em;color: #696969;}#sk-container-id-2 label.sk-toggleable__label-arrow:hover:before {color: black;}#sk-container-id-2 div.sk-estimator:hover label.sk-toggleable__label-arrow:before {color: black;}#sk-container-id-2 div.sk-toggleable__content {max-height: 0;max-width: 0;overflow: hidden;text-align: left;background-color: #f0f8ff;}#sk-container-id-2 div.sk-toggleable__content pre {margin: 0.2em;color: black;border-radius: 0.25em;background-color: #f0f8ff;}#sk-container-id-2 input.sk-toggleable__control:checked~div.sk-toggleable__content {max-height: 200px;max-width: 100%;overflow: auto;}#sk-container-id-2 input.sk-toggleable__control:checked~label.sk-toggleable__label-arrow:before {content: \"▾\";}#sk-container-id-2 div.sk-estimator input.sk-toggleable__control:checked~label.sk-toggleable__label {background-color: #d4ebff;}#sk-container-id-2 div.sk-label input.sk-toggleable__control:checked~label.sk-toggleable__label {background-color: #d4ebff;}#sk-container-id-2 input.sk-hidden--visually {border: 0;clip: rect(1px 1px 1px 1px);clip: rect(1px, 1px, 1px, 1px);height: 1px;margin: -1px;overflow: hidden;padding: 0;position: absolute;width: 1px;}#sk-container-id-2 div.sk-estimator {font-family: monospace;background-color: #f0f8ff;border: 1px dotted black;border-radius: 0.25em;box-sizing: border-box;margin-bottom: 0.5em;}#sk-container-id-2 div.sk-estimator:hover {background-color: #d4ebff;}#sk-container-id-2 div.sk-parallel-item::after {content: \"\";width: 100%;border-bottom: 1px solid gray;flex-grow: 1;}#sk-container-id-2 div.sk-label:hover label.sk-toggleable__label {background-color: #d4ebff;}#sk-container-id-2 div.sk-serial::before {content: \"\";position: absolute;border-left: 1px solid gray;box-sizing: border-box;top: 0;bottom: 0;left: 50%;z-index: 0;}#sk-container-id-2 div.sk-serial {display: flex;flex-direction: column;align-items: center;background-color: white;padding-right: 0.2em;padding-left: 0.2em;position: relative;}#sk-container-id-2 div.sk-item {position: relative;z-index: 1;}#sk-container-id-2 div.sk-parallel {display: flex;align-items: stretch;justify-content: center;background-color: white;position: relative;}#sk-container-id-2 div.sk-item::before, #sk-container-id-2 div.sk-parallel-item::before {content: \"\";position: absolute;border-left: 1px solid gray;box-sizing: border-box;top: 0;bottom: 0;left: 50%;z-index: -1;}#sk-container-id-2 div.sk-parallel-item {display: flex;flex-direction: column;z-index: 1;position: relative;background-color: white;}#sk-container-id-2 div.sk-parallel-item:first-child::after {align-self: flex-end;width: 50%;}#sk-container-id-2 div.sk-parallel-item:last-child::after {align-self: flex-start;width: 50%;}#sk-container-id-2 div.sk-parallel-item:only-child::after {width: 0;}#sk-container-id-2 div.sk-dashed-wrapped {border: 1px dashed gray;margin: 0 0.4em 0.5em 0.4em;box-sizing: border-box;padding-bottom: 0.4em;background-color: white;}#sk-container-id-2 div.sk-label label {font-family: monospace;font-weight: bold;display: inline-block;line-height: 1.2em;}#sk-container-id-2 div.sk-label-container {text-align: center;}#sk-container-id-2 div.sk-container {/* jupyter's `normalize.less` sets `[hidden] { display: none; }` but bootstrap.min.css set `[hidden] { display: none !important; }` so we also need the `!important` here to be able to override the default hidden behavior on the sphinx rendered scikit-learn.org. See: https://github.com/scikit-learn/scikit-learn/issues/21755 */display: inline-block !important;position: relative;}#sk-container-id-2 div.sk-text-repr-fallback {display: none;}</style><div id=\"sk-container-id-2\" class=\"sk-top-container\"><div class=\"sk-text-repr-fallback\"><pre>RandomForestRegressor(bootstrap=False, max_features=6, n_estimators=28,\n",
       "                      random_state=42)</pre><b>In a Jupyter environment, please rerun this cell to show the HTML representation or trust the notebook. <br />On GitHub, the HTML representation is unable to render, please try loading this page with nbviewer.org.</b></div><div class=\"sk-container\" hidden><div class=\"sk-item\"><div class=\"sk-estimator sk-toggleable\"><input class=\"sk-toggleable__control sk-hidden--visually\" id=\"sk-estimator-id-2\" type=\"checkbox\" checked><label for=\"sk-estimator-id-2\" class=\"sk-toggleable__label sk-toggleable__label-arrow\">RandomForestRegressor</label><div class=\"sk-toggleable__content\"><pre>RandomForestRegressor(bootstrap=False, max_features=6, n_estimators=28,\n",
       "                      random_state=42)</pre></div></div></div></div></div>"
      ],
      "text/plain": [
       "RandomForestRegressor(bootstrap=False, max_features=6, n_estimators=28,\n",
       "                      random_state=42)"
      ]
     },
     "execution_count": 34,
     "metadata": {},
     "output_type": "execute_result"
    }
   ],
   "source": [
    "best_model = grid_search.best_estimator_\n",
    "best_model"
   ]
  },
  {
   "cell_type": "markdown",
   "metadata": {},
   "source": [
    "We can get the **hyperparameter** and **average cv score** (negative mean square error) for the **best performing model** through the command `grid_search.best_params` and `grid_search.best_score_`, respectively. "
   ]
  },
  {
   "cell_type": "code",
   "execution_count": 35,
   "metadata": {},
   "outputs": [
    {
     "name": "stdout",
     "output_type": "stream",
     "text": [
      "Best hyperparameter settings: {'bootstrap': False, 'max_features': 6, 'n_estimators': 28}\n",
      "RMSE of the best model = 49091.53705337537\n"
     ]
    }
   ],
   "source": [
    "print('Best hyperparameter settings:', grid_search.best_params_)\n",
    "print('RMSE of the best model =', np.sqrt(-grid_search.best_score_))"
   ]
  },
  {
   "cell_type": "markdown",
   "metadata": {},
   "source": [
    "The RMSE of the best model is 49091, which is lower than the model we trained earlier earlier (RMSE=52130)\n",
    "<br><br>\n",
    "We may gain good insights on the importance of each of the attributes by inspecting the best models!\n"
   ]
  },
  {
   "cell_type": "code",
   "execution_count": 36,
   "metadata": {},
   "outputs": [
    {
     "data": {
      "text/plain": [
       "[(0.40900382338455427, 'median_income'),\n",
       " (0.1537660629470213, 'INLAND'),\n",
       " (0.12386142081414621, 'longitude'),\n",
       " (0.11580576492874449, 'latitude'),\n",
       " (0.04305951901487116, 'housing_median_age'),\n",
       " (0.04134372370292811, 'population'),\n",
       " (0.03336537848842255, 'total_rooms'),\n",
       " (0.02721747607203158, 'total_bedrooms'),\n",
       " (0.025701863206500086, 'households'),\n",
       " (0.015536557838347415, '<1H OCEAN'),\n",
       " (0.005916999372287639, 'NEAR OCEAN'),\n",
       " (0.005001399210138566, 'NEAR BAY'),\n",
       " (0.00042001102000676857, 'ISLAND')]"
      ]
     },
     "execution_count": 36,
     "metadata": {},
     "output_type": "execute_result"
    }
   ],
   "source": [
    "feature_importances = grid_search.best_estimator_.feature_importances_\n",
    "attributes = X_train_num.columns.tolist() + list(lb_encoder.classes_)\n",
    "sorted(zip(feature_importances, attributes), reverse=True)"
   ]
  },
  {
   "cell_type": "markdown",
   "metadata": {},
   "source": [
    "From the results, it is clear that median_income is the most important predictor, followed by location features (INLAND, longtitude, latitude)."
   ]
  },
  {
   "cell_type": "markdown",
   "metadata": {},
   "source": [
    "--- \n",
    "## 4.0 Evaluate system on unseen data"
   ]
  },
  {
   "cell_type": "markdown",
   "metadata": {},
   "source": [
    "Having trained and fine-tuned our model, we are almost ready to deploy our model. But before this, we shall do one final test by evaluating our best model on the test set.\n",
    "\n",
    "\n",
    "### 4.1 How to use the test set\n",
    "\n",
    "***Warning: Never use the test set to build or refine your model in any way***\n",
    "\n",
    "It is a golden rule of thumb that we must evaluate on the test set only at the every end of your development cycle to evaluate how well your model works on new data. Test set are used to evaluate how well our model can generalizes to new unseen data. In this sense, the test set is used only for reporting purposes where the reported accuracy ideally is closer to the expected performance when we deploy our model.\n",
    "\n",
    "The test set must never be used in any way to build or fine-tune the model. \n",
    "\n",
    "### 4.2 Preprocessing the test set\n",
    "\n",
    "All unseen data should go through the **same preprocessing steps** as the training set. This ensures that the features for the unseen data resides in the same space as the training set. "
   ]
  },
  {
   "cell_type": "markdown",
   "metadata": {},
   "source": [
    "We have already set aside a test set and have separated it into input matrix *X_test* and output vector *y_test*. Next, we need to further process the test set.\n",
    "<br>"
   ]
  },
  {
   "cell_type": "markdown",
   "metadata": {},
   "source": [
    "**Exercise 6.** Split `X_test` into `X_test_num` (numerical features only) and `X_test_cat` (categorical features only)\n",
    "\n",
    "Ans:\n",
    "\n",
    "1. Ensure that the arrays have the following shapes:\n",
    "   1. Shape of X_test_num: (4128, 8)\n",
    "   2. Shape of X_test_cat: (4128,)\n",
    "2. Ensure that `X_test_num` does not contain the column `ocean_proximity` \n",
    "3. Ensure that `X_test_cat` stores the value of `ocean_proximity` "
   ]
  },
  {
   "cell_type": "code",
   "execution_count": 37,
   "metadata": {},
   "outputs": [],
   "source": [
    "# Split the test set into numerical and categorical sets\n",
    "X_test_num = X_test.drop('ocean_proximity', axis=1)\n",
    "X_test_cat = X_test.ocean_proximity"
   ]
  },
  {
   "cell_type": "code",
   "execution_count": 38,
   "metadata": {},
   "outputs": [
    {
     "name": "stdout",
     "output_type": "stream",
     "text": [
      "Shape of X_test_num: (4128, 8)\n",
      "Shape of X_test_cat: (4128,)\n"
     ]
    }
   ],
   "source": [
    "print('Shape of X_test_num:', X_test_num.shape)\n",
    "print('Shape of X_test_cat:', X_test_cat.shape)"
   ]
  },
  {
   "cell_type": "markdown",
   "metadata": {},
   "source": [
    "**Exercise 7.** Missing value the missing values. For the *training set*, we fill the missing value with the median value of a column. For *unseen data*, we must use the **same** median value used in the training set. To do this, you must use the same `imputer` object that you fit using the training set."
   ]
  },
  {
   "cell_type": "code",
   "execution_count": 39,
   "metadata": {},
   "outputs": [],
   "source": [
    "# fill missing values on test set (use the imputer from section 2)\n",
    "X_test_num_tr = imputer.transform(X_test_num) ##Dont fit again\n"
   ]
  },
  {
   "cell_type": "markdown",
   "metadata": {},
   "source": [
    "**Exercise 8.** Standardize the data as performed on the training set. Similarly, you should use the **same** mean and standard deviation value used on the training set. To do this, you must use the same `scaler` object that you fit using the training set."
   ]
  },
  {
   "cell_type": "code",
   "execution_count": 40,
   "metadata": {},
   "outputs": [],
   "source": [
    "# standardize the numerical attributes in test set (use the scaler from section 2)\n",
    "X_test_num_tr = scaler.transform(X_test_num_tr)"
   ]
  },
  {
   "cell_type": "markdown",
   "metadata": {},
   "source": [
    "**Exercise 9.** Convert the categorical attribute into one-hot vector. Similarly, you should use the same `lb_encoder` to convert the categorical data to a one-hot vector."
   ]
  },
  {
   "cell_type": "code",
   "execution_count": 41,
   "metadata": {},
   "outputs": [],
   "source": [
    "# one-hot encode the categorical attribute in the test set (use the lb_encoder from section 2)\n",
    "X_test_cat_tr = lb_encoder.transform(X_test_cat)"
   ]
  },
  {
   "cell_type": "markdown",
   "metadata": {},
   "source": [
    "Lastly, we combine the numerical and categorical sets"
   ]
  },
  {
   "cell_type": "code",
   "execution_count": 42,
   "metadata": {},
   "outputs": [],
   "source": [
    "# combine the numerical and categorical sets using hstack\n",
    "X_test_tr = np.hstack((X_test_num_tr, X_test_cat_tr))"
   ]
  },
  {
   "cell_type": "markdown",
   "metadata": {},
   "source": [
    "#### Predicting on the test set"
   ]
  },
  {
   "cell_type": "markdown",
   "metadata": {},
   "source": [
    "**Exercise 10.** Evaluate the best model on test set and compute the RMSE for the test set.\n"
   ]
  },
  {
   "cell_type": "code",
   "execution_count": 45,
   "metadata": {},
   "outputs": [
    {
     "name": "stdout",
     "output_type": "stream",
     "text": [
      "Test RMSE =  50712.6789228979\n"
     ]
    }
   ],
   "source": [
    "#  Evaluate the best model on test set and compute the RMSE\n",
    "y_pred = best_model.predict(X_test_tr) ##Dont fit anymore\n",
    "\n",
    "rmse = np.sqrt(mean_squared_error(y_test, y_pred))\n",
    "print('Test RMSE = ', rmse)"
   ]
  },
  {
   "cell_type": "markdown",
   "metadata": {},
   "source": [
    "Test performance is usually slightly worse than validation performance since the model is fine-tuned to perform well on the validation data."
   ]
  },
  {
   "cell_type": "markdown",
   "metadata": {},
   "source": [
    "**---- End ----**"
   ]
  }
 ],
 "metadata": {
  "kernelspec": {
   "display_name": "Python 3 (ipykernel)",
   "language": "python",
   "name": "python3"
  },
  "language_info": {
   "codemirror_mode": {
    "name": "ipython",
    "version": 3
   },
   "file_extension": ".py",
   "mimetype": "text/x-python",
   "name": "python",
   "nbconvert_exporter": "python",
   "pygments_lexer": "ipython3",
   "version": "3.12.4"
  }
 },
 "nbformat": 4,
 "nbformat_minor": 4
}
